{
 "cells": [
  {
   "cell_type": "markdown",
   "metadata": {},
   "source": [
    "We use a [recording](http://www.neyzen.com/images/taksimler_pdf/02_saz_eserleri/056_muhayyer/muhayyer_p_tanburi_cemil_bey_salih_bilgin_mansur.pdf) of Tanburi Cemil Bey's Muhayyer Peşrev, performed by Salih Bilgin. The musician is blowing a mansur ney, and hence performs in Mansur ahenk.\n",
    "\n",
    "The tonic is computed earlier using a [score-informed tonic identification method](http://sertansenturk.com/uploads/publications/senturk2013karar_ismir.pdf).\n",
    "\n",
    "For the makam-slug names, check the json file in the data folder. The slugs are the same with the ones in the [SymbTr](https://github.com/MTG/SymbTr) filenames."
   ]
  },
  {
   "cell_type": "code",
   "execution_count": 1,
   "metadata": {
    "collapsed": false
   },
   "outputs": [],
   "source": [
    "import os\n",
    "import json\n",
    "from ahenkidentifier import ahenkidentifier\n"
   ]
  },
  {
   "cell_type": "code",
   "execution_count": 2,
   "metadata": {
    "collapsed": false
   },
   "outputs": [],
   "source": [
    "tonicfile = os.path.join('example', 'tonic.json')\n",
    "tonic = json.load(open(tonicfile, 'r'))\n",
    "tonicfreq = tonic['scoreInformed']['Value']\n",
    "\n",
    "makam = 'muhayyer'"
   ]
  },
  {
   "cell_type": "code",
   "execution_count": 4,
   "metadata": {
    "collapsed": false
   },
   "outputs": [
    {
     "name": "stdout",
     "output_type": "stream",
     "text": [
      "Mansur\n"
     ]
    }
   ],
   "source": [
    "ahenk = ahenkidentifier.identify(tonicfreq, makam)\n",
    "print ahenk[0]"
   ]
  }
 ],
 "metadata": {
  "kernelspec": {
   "display_name": "Python 2",
   "language": "python",
   "name": "python2"
  },
  "language_info": {
   "codemirror_mode": {
    "name": "ipython",
    "version": 2
   },
   "file_extension": ".py",
   "mimetype": "text/x-python",
   "name": "python",
   "nbconvert_exporter": "python",
   "pygments_lexer": "ipython2",
   "version": "2.7.6"
  }
 },
 "nbformat": 4,
 "nbformat_minor": 0
}
